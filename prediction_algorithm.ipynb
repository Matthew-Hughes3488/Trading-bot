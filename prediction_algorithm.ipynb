{
 "cells": [
  {
   "cell_type": "markdown",
   "metadata": {},
   "source": [
    "This file explains how my machine learning algoithm that is used in the MLBacktester class works"
   ]
  },
  {
   "cell_type": "markdown",
   "metadata": {},
   "source": [
    "Getting and preparing the data"
   ]
  },
  {
   "cell_type": "code",
   "execution_count": null,
   "metadata": {},
   "outputs": [],
   "source": [
    "#Import required libiraes\n",
    "import pandas as pd\n",
    "import numpy as np\n",
    "import matplotlib.pyplot as plt\n",
    "from sklearn.linear_model import LogisticRegression\n",
    "from sklearn.metrics import accuracy_score"
   ]
  },
  {
   "cell_type": "code",
   "execution_count": null,
   "metadata": {},
   "outputs": [],
   "source": [
    "#Reading the dataset\n",
    "data = pd.read_csv(\"dataset.csv\", parse_dates=['time'], index_col='time')\n",
    "data"
   ]
  },
  {
   "cell_type": "code",
   "execution_count": null,
   "metadata": {},
   "outputs": [],
   "source": [
    "#Preparing the data\n",
    "data[\"returns\"] = np.log(data.div(data.shift(1)))\n",
    "data.dropna(inplace=True)\n",
    "data[\"direction\"] = np.sign(data.returns)\n",
    "data"
   ]
  },
  {
   "cell_type": "code",
   "execution_count": null,
   "metadata": {},
   "outputs": [],
   "source": [
    "lags = 5\n",
    "cols = []\n",
    "for lag in range(1, lags + 1):\n",
    "    col = \"lag{}\".format(lag)\n",
    "    data[col] = data.returns.shift(lag)\n",
    "    cols.append(col)\n",
    "data.dropna(inplace=True)\n",
    "data"
   ]
  },
  {
   "cell_type": "markdown",
   "metadata": {},
   "source": [
    "Predicting the market direction"
   ]
  },
  {
   "cell_type": "code",
   "execution_count": null,
   "metadata": {},
   "outputs": [],
   "source": [
    "lm = LogisticRegression(C = 1e6, max_iter = 100000, multi_class = \"ovr\")\n",
    "lm.fit(data[cols], data.direction)\n",
    "data[\"pred\"] = lm.predict(data[cols])\n",
    "data"
   ]
  },
  {
   "cell_type": "markdown",
   "metadata": {},
   "source": [
    "Simple backtesting"
   ]
  },
  {
   "cell_type": "code",
   "execution_count": null,
   "metadata": {},
   "outputs": [],
   "source": [
    "data[\"strategy\"] = data.pred * data.returns\n",
    "data[\"creturns\"] = data[\"returns\"].cumsum().apply(np.exp)\n",
    "data[\"cstrategy\"] = data[\"strategy\"].cumsum().apply(np.exp)\n",
    "data[[\"creturns\", \"cstrategy\"]].plot(figsize = (12 , 8))\n",
    "plt.show()"
   ]
  },
  {
   "cell_type": "markdown",
   "metadata": {},
   "source": [
    "The orange line on the graph graph above shows that the stratergy the machine learning algorithm is implementing would produce a 50% return on investement during the trading year 2019-2020. This however does not take into consideration trading costs. The blue line shows a simple buy and hold startergy to compare to the algorithms statergy"
   ]
  },
  {
   "cell_type": "code",
   "execution_count": null,
   "metadata": {},
   "outputs": [],
   "source": [
    "# This code will display the number of trades that the algorithm executed\n",
    "data[\"trades\"] = data.pred.diff().fillna(0).abs()\n",
    "data.trades.value_counts()"
   ]
  },
  {
   "cell_type": "markdown",
   "metadata": {},
   "source": [
    "This algorithm is showing signs of excessive trading. This could mean that this is not the most cost efficent stratergy becuase the more trades the alogirtm takes, the more comission it will have to pay to the executing broker. I am now going to do an out-sample forward test to see how well this current algroithm generalises to unseen data."
   ]
  },
  {
   "cell_type": "markdown",
   "metadata": {},
   "source": [
    "Out-sample forward test"
   ]
  },
  {
   "cell_type": "code",
   "execution_count": null,
   "metadata": {},
   "outputs": [],
   "source": [
    "data = pd.read_csv(\"test_set.csv\", parse_dates = [\"time\"], index_col = \"time\")\n",
    "data[\"returns\"] = np.log(data.div(data.shift(1)))\n",
    "data[\"direction\"] = np.sign(data.returns)\n",
    "\n",
    "lags = 5\n",
    "cols = []\n",
    "for lag in range(1, lags + 1):\n",
    "    col = \"lag{}\".format(lag)\n",
    "    data[col] = data.returns.shift(lag)\n",
    "    cols.append(col)\n",
    "data.dropna(inplace = True)\n",
    "\n",
    "data[\"pred\"] = lm.predict(data[cols])\n",
    "\n",
    "# This will calulate how oftern the algorithm is correct when predicting the change in price. Note, this is not the only factor that matters when trading\n",
    "# You also need to look at the overall risk to reward ratio, which I will do later.\n",
    "hits = np.sign(data.direction * data.pred).value_counts()\n",
    "hit_ratio = hits[1.0] / sum(hits)\n",
    "hit_ratio\n"
   ]
  },
  {
   "cell_type": "markdown",
   "metadata": {},
   "source": [
    "The hit ratio for unseen data is very similar to that of the hit ratio of the in sample test, which indicates that we do not have over fitting"
   ]
  },
  {
   "cell_type": "code",
   "execution_count": null,
   "metadata": {},
   "outputs": [],
   "source": [
    "data[\"strategy\"] = data.pred * data.returns\n",
    "data[\"creturns\"] = data[\"returns\"].cumsum().apply(np.exp)\n",
    "data[\"cstrategy\"] = data[\"strategy\"].cumsum().apply(np.exp)\n",
    "data[[\"creturns\", \"cstrategy\"]].plot(figsize = (12 , 8))\n",
    "plt.show()"
   ]
  },
  {
   "cell_type": "markdown",
   "metadata": {},
   "source": [
    "Again the orange line shows the algoirithms performance against the blue lines buy and hold performace. The alogirthm out performs it again and produces a 30% return on investment before trading costs."
   ]
  },
  {
   "cell_type": "code",
   "execution_count": null,
   "metadata": {},
   "outputs": [],
   "source": [
    "data[\"trades\"] = data.pred.diff().fillna(0).abs()\n",
    "data.trades.value_counts()"
   ]
  },
  {
   "cell_type": "markdown",
   "metadata": {},
   "source": [
    "I am happy with how the this simple classification model currently performs but I beleive it could be improved upon further by using a more sofisicated classification model and include contraints that will prevent the model of over trading as the commissions on the these unneeded trade will eat away at the algorithms profits."
   ]
  }
 ],
 "metadata": {
  "interpreter": {
   "hash": "31f2aee4e71d21fbe5cf8b01ff0e069b9275f58929596ceb00d14d90e3e16cd6"
  },
  "kernelspec": {
   "display_name": "Python 3.8.10 64-bit",
   "name": "python3"
  },
  "language_info": {
   "codemirror_mode": {
    "name": "ipython",
    "version": 3
   },
   "file_extension": ".py",
   "mimetype": "text/x-python",
   "name": "python",
   "nbconvert_exporter": "python",
   "pygments_lexer": "ipython3",
   "version": "3.8.10"
  },
  "orig_nbformat": 4
 },
 "nbformat": 4,
 "nbformat_minor": 2
}
